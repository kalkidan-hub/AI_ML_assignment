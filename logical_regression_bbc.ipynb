{
 "cells": [
  {
   "attachments": {},
   "cell_type": "markdown",
   "metadata": {},
   "source": [
    "# lets start my discussing about the feature extraction methods and why we choose them."
   ]
  },
  {
   "attachments": {},
   "cell_type": "markdown",
   "metadata": {},
   "source": [
    "## For this projct, we uses three feature extraction methods, namely TfidfVectorizer, CountVectorizer, document length.\n",
    "## why did we use them, well lets talk about that:"
   ]
  },
  {
   "attachments": {},
   "cell_type": "markdown",
   "metadata": {},
   "source": [
    "## 1. CountVectorizer:\n",
    "### CountVectorizer is a commonly used feature extraction technique in text classification tasks. It converts the text documents into a matrix of token counts, where each row represents a document and each column represents a specific word (token). The cell values indicate the frequency of each word in the corresponding document.\n",
    "\n",
    "### The reason for using CountVectorizer is that it captures the occurrence of words in the documents, which can provide valuable information for classification. Words that are more frequent in certain categories may have higher discriminative power and can help distinguish between different classes. By including the count of each word as a feature, the model can learn the importance of specific words for classification.\n",
    "\n",
    "## 2. TfidfVectorizer:\n",
    "### TfidfVectorizer is another popular feature extraction method in text classification. TF-IDF stands for Term Frequency-Inverse Document ### Frequency. It calculates a weight for each word in each document based on its frequency within the document and its rarity in the entire ### corpus.\n",
    "\n",
    "### The motivation behind using TfidfVectorizer is to give more importance to words that are informative for classification while downplaying ### common words that appear in many documents. Words that are frequent in a specific document but rare in the entire corpus are likely to carry ### more discriminative power. By using TF-IDF weights as features, the model can focus on important and distinctive words for classification.\n",
    "\n",
    "## 3. Document Length:\n",
    "### Including the length of each document (number of words) as a feature can provide additional information to the model. Document length can be ### indicative of the complexity or the amount of content in a document, and it may vary across different categories or classes.\n",
    "\n",
    "### By incorporating document length as a feature, the model can learn patterns related to the length of documents that are associated with ### specific classes. For example, certain categories may have shorter or longer documents on average, and the model can use this information to ### make predictions.\n",
    "\n",
    "### Overall, the combination of CountVectorizer, TfidfVectorizer, and document length as feature extraction methods provides a comprehensive ### representation of the text data, capturing different aspects such as word frequency, importance, and document length, which can be valuable ### for text classification tasks."
   ]
  },
  {
   "attachments": {},
   "cell_type": "markdown",
   "metadata": {},
   "source": [
    "# The necessary imports"
   ]
  },
  {
   "cell_type": "code",
   "execution_count": 59,
   "metadata": {},
   "outputs": [],
   "source": [
    "import os\n",
    "import glob\n",
    "import re\n",
    "from collections import defaultdict\n",
    "from sklearn.model_selection import train_test_split\n",
    "from sklearn.metrics import accuracy_score\n",
    "from sklearn.feature_extraction.text import CountVectorizer, TfidfVectorizer\n",
    "from sklearn.preprocessing import LabelEncoder\n",
    "import matplotlib.pyplot as plt\n",
    "import numpy as np"
   ]
  },
  {
   "attachments": {},
   "cell_type": "markdown",
   "metadata": {},
   "source": [
    "# Start by defining the function that will handle the preprocessing of the data and a class to that serves as the implementation of logistics regression"
   ]
  },
  {
   "cell_type": "code",
   "execution_count": 60,
   "metadata": {},
   "outputs": [],
   "source": [
    "def preprocess_text(text):\n",
    "    text = text.lower()\n",
    "    text = re.sub(r'[^a-zA-Z0-9\\s]', '', text)\n",
    "    text = text.strip()\n",
    "    doc_length = len(text.split())\n",
    "    return text, doc_length\n",
    "\n",
    "\n",
    "class LogisticRegression:\n",
    "    def __init__(self, learning_rate=0.1, num_iterations=100):\n",
    "        self.learning_rate = learning_rate\n",
    "        self.num_iterations = num_iterations\n",
    "        self.weights = None\n",
    "        self.biases = None\n",
    "\n",
    "    def sigmoid(self, z):\n",
    "        return 1 / (1 + np.exp(-z))\n",
    "\n",
    "    def fit(self, X, y):\n",
    "        num_samples, num_features = X.shape\n",
    "        num_classes = len(np.unique(y))\n",
    "        self.weights = np.zeros((num_classes, num_features))\n",
    "        self.biases = np.zeros(num_classes)\n",
    "\n",
    "        for _ in range(self.num_iterations):\n",
    "            scores = np.dot(X, self.weights.T) + self.biases\n",
    "            y_pred = self.sigmoid(scores)\n",
    "\n",
    "            error = y_pred - self.one_hot_encode(y, num_classes)\n",
    "            gradient_weights = np.dot(X.T, error) / num_samples\n",
    "            gradient_biases = np.mean(error, axis=0)\n",
    "\n",
    "            self.weights -= self.learning_rate * gradient_weights.T\n",
    "            self.biases -= self.learning_rate * gradient_biases\n",
    "\n",
    "    def predict(self, X):\n",
    "        scores = np.dot(X, self.weights.T) + self.biases\n",
    "        y_pred = self.sigmoid(scores)\n",
    "        return np.argmax(y_pred, axis=1)\n",
    "\n",
    "    def one_hot_encode(self, y, num_classes):\n",
    "        one_hot = np.zeros((len(y), num_classes))\n",
    "        one_hot[np.arange(len(y)), y] = 1\n",
    "        return one_hot"
   ]
  },
  {
   "attachments": {},
   "cell_type": "markdown",
   "metadata": {},
   "source": [
    "# Read the files and store the datas for later use"
   ]
  },
  {
   "cell_type": "code",
   "execution_count": 61,
   "metadata": {},
   "outputs": [],
   "source": [
    "parent_folder = 'bbc'\n",
    "subfolders = ['business', 'entertainment', 'sport', 'politics', 'tech']\n",
    "\n",
    "categories_count = defaultdict(int)\n",
    "train_texts = []\n",
    "train_lengths = []\n",
    "train_labels = []\n",
    "\n",
    "for subfolder in subfolders:\n",
    "    folder_path = os.path.join(parent_folder, subfolder)\n",
    "    files = glob.glob(os.path.join(folder_path, '*.txt'))\n",
    "\n",
    "    categories_count[subfolder] += len(files)\n",
    "\n",
    "    for file_path in files[:10]:\n",
    "        train_labels.append(subfolder)\n",
    "        with open(file_path, 'r') as file:\n",
    "            content = file.read()\n",
    "            text, length = preprocess_text(content)\n",
    "            train_texts.append(text)\n",
    "            train_lengths.append(length)"
   ]
  },
  {
   "attachments": {},
   "cell_type": "markdown",
   "metadata": {},
   "source": [
    "# Extracting the features. it should be noted that we are extracting all three features we stated earlier\n"
   ]
  },
  {
   "cell_type": "code",
   "execution_count": 62,
   "metadata": {},
   "outputs": [],
   "source": [
    "\n",
    "count_vectorizer = CountVectorizer()\n",
    "X_train_counts = count_vectorizer.fit_transform(train_texts)\n",
    "\n",
    "tfidf_vectorizer = TfidfVectorizer()\n",
    "X_train_tfidf = tfidf_vectorizer.fit_transform(train_texts)\n",
    "\n",
    "train_lengths = np.array(train_lengths).reshape(-1, 1)\n",
    "\n",
    "X_train = np.concatenate((X_train_counts.toarray(), X_train_tfidf.toarray(), train_lengths), axis=1)\n",
    "\n",
    "label_encoder = LabelEncoder()\n",
    "y_train_numeric = label_encoder.fit_transform(train_labels)\n",
    "\n",
    "X_train, X_test, y_train, y_test = train_test_split(X_train, y_train_numeric, test_size=0.2, random_state=42)"
   ]
  },
  {
   "attachments": {},
   "cell_type": "markdown",
   "metadata": {},
   "source": [
    "# Define the hyper parameters we will use"
   ]
  },
  {
   "cell_type": "code",
   "execution_count": 63,
   "metadata": {},
   "outputs": [],
   "source": [
    "learning_rates = [0.0001, 0.001, 0.01, 0.1, 1.0, 1.5]"
   ]
  },
  {
   "attachments": {},
   "cell_type": "markdown",
   "metadata": {},
   "source": [
    "# Test the model with the predifined hyperparameters and store the best performance along side with the hyperparameters\n"
   ]
  },
  {
   "cell_type": "code",
   "execution_count": 64,
   "metadata": {},
   "outputs": [
    {
     "name": "stderr",
     "output_type": "stream",
     "text": [
      "/tmp/ipykernel_7425/3639642550.py:17: RuntimeWarning: overflow encountered in exp\n",
      "  return 1 / (1 + np.exp(-z))\n",
      "/tmp/ipykernel_7425/3639642550.py:17: RuntimeWarning: overflow encountered in exp\n",
      "  return 1 / (1 + np.exp(-z))\n",
      "/tmp/ipykernel_7425/3639642550.py:17: RuntimeWarning: overflow encountered in exp\n",
      "  return 1 / (1 + np.exp(-z))\n",
      "/tmp/ipykernel_7425/3639642550.py:17: RuntimeWarning: overflow encountered in exp\n",
      "  return 1 / (1 + np.exp(-z))\n"
     ]
    }
   ],
   "source": [
    "\n",
    "results = []\n",
    "best_accuracy = 0\n",
    "best_params = {}\n",
    "\n",
    "for lr in learning_rates:\n",
    "    model = LogisticRegression(learning_rate=lr)\n",
    "    model.fit(X_train, y_train)\n",
    "\n",
    "    y_pred = model.predict(X_test)\n",
    "\n",
    "    accuracy = accuracy_score(y_test, y_pred)\n",
    "\n",
    "    results.append((lr, accuracy))\n",
    "\n",
    "    if accuracy > best_accuracy:\n",
    "        best_accuracy = accuracy\n",
    "        best_params = {'learning_rate': lr}"
   ]
  },
  {
   "attachments": {},
   "cell_type": "markdown",
   "metadata": {},
   "source": [
    "# Finally lets use the matplotlib to visualize our findings."
   ]
  },
  {
   "cell_type": "code",
   "execution_count": 65,
   "metadata": {},
   "outputs": [
    {
     "name": "stdout",
     "output_type": "stream",
     "text": [
      "Best Parameters: {'learning_rate': 0.001}\n",
      "Best Accuracy: 0.3\n"
     ]
    },
    {
     "data": {
      "image/png": "[encoded data removed]",
      "text/plain": [
       "<Figure size 640x480 with 1 Axes>"
      ]
     },
     "metadata": {},
     "output_type": "display_data"
    }
   ],
   "source": [
    "print(\"Best Parameters:\", best_params)\n",
    "print(\"Best Accuracy:\", best_accuracy)\n",
    "\n",
    "# Plot accuracy change based on hyperparameter variations\n",
    "fig, ax = plt.subplots()\n",
    "x = range(len(results))\n",
    "y = [result[1] for result in results]\n",
    "labels = [f\"LR={result[0]}\" for result in results]\n",
    "ax.bar(x, y, tick_label=labels)\n",
    "ax.set_xlabel('Learning Rates')\n",
    "ax.set_ylabel('Accuracy')\n",
    "ax.set_title('Accuracy Change based on Learning Rates')\n",
    "plt.xticks(rotation=90)\n",
    "plt.show()\n"
   ]
  },
  {
   "attachments": {},
   "cell_type": "markdown",
   "metadata": {},
   "source": []
  }
 ],
 "metadata": {
  "kernelspec": {
   "display_name": "Python 3",
   "language": "python",
   "name": "python3"
  },
  "language_info": {
   "codemirror_mode": {
    "name": "ipython",
    "version": 3
   },
   "file_extension": ".py",
   "mimetype": "text/x-python",
   "name": "python",
   "nbconvert_exporter": "python",
   "pygments_lexer": "ipython3",
   "version": "3.10.6"
  },
  "orig_nbformat": 4
 },
 "nbformat": 4,
 "nbformat_minor": 2
}
