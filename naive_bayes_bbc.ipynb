{
 "cells": [
  {
   "attachments": {},
   "cell_type": "markdown",
   "metadata": {},
   "source": [
    "## Lets start by reading every text file in the directory subfolders and store the words in the texts under the subfolders labels"
   ]
  },
  {
   "cell_type": "code",
   "execution_count": 216,
   "metadata": {},
   "outputs": [],
   "source": [
    "\n",
    "import matplotlib.pyplot as plt\n",
    "from collections import Counter, defaultdict\n",
    "import os\n",
    "import glob\n",
    "import re\n",
    "import math\n",
    "from sklearn.feature_extraction.text import CountVectorizer\n",
    "\n",
    "parent_folder = 'bbc'\n",
    "subfolders = ['business', 'entertainment', 'sport', 'politics', 'tech']\n",
    "word_dict = defaultdict(list)\n",
    "categories_count = defaultdict(int)\n",
    "all_words = []\n",
    "\n",
    "total_samples = 0\n",
    "\n",
    "def tokenize_text(text):\n",
    "    words = text.lower().split()\n",
    "    words = [re.sub(r\"[^a-zA-Z0-9]\", \"\", word) for word in words]\n",
    "    stop_words = set(['the', 'is', 'are', 'and', 'that', 'do', 'have'])\n",
    "    words = [word for word in words if word not in stop_words]\n",
    "    words = [word[:-1] if word.endswith('s') else word for word in words]\n",
    "    return words\n",
    "\n",
    "for subfolder in subfolders:\n",
    "    folder_path = os.path.join(parent_folder, subfolder)\n",
    "    files = glob.glob(os.path.join(folder_path, '*.txt'))\n",
    "\n",
    "    categories_count[subfolder] += len(files)\n",
    "    total_samples += len(files)\n",
    "\n",
    "    for file_path in files[:300]:\n",
    "        with open(file_path, 'r') as file:\n",
    "            content = file.read()\n",
    "            words = tokenize_text(content)\n",
    "\n",
    "            for word in words:\n",
    "                all_words.append(word)\n",
    "                if word not in word_dict:\n",
    "                    word_dict[subfolder].append(word)\n",
    "                else:\n",
    "                    if subfolder not in word_dict[word]:\n",
    "                        word_dict[word].append(subfolder)\n",
    "\n",
    "\n",
    "\n",
    "\n",
    "\n"
   ]
  },
  {
   "attachments": {},
   "cell_type": "markdown",
   "metadata": {},
   "source": [
    "## Next, lets caclulate the probability of a word given the label it's under"
   ]
  },
  {
   "cell_type": "code",
   "execution_count": 217,
   "metadata": {},
   "outputs": [],
   "source": [
    "\n",
    "word_given_business = defaultdict(float)\n",
    "word_given_sport = defaultdict(float)\n",
    "word_given_entertainment = defaultdict(float)\n",
    "word_given_tech = defaultdict(float)\n",
    "word_given_politics = defaultdict(float)\n",
    "counter_business = Counter(word_dict['business'])\n",
    "counter_sport = Counter(word_dict['sport'])\n",
    "counter_entertainment = Counter(word_dict['entertainment'])\n",
    "counter_tech = Counter(word_dict['tech'])\n",
    "counter_politics = Counter(word_dict['politics'])\n",
    "\n",
    "for word in word_dict['business']:\n",
    "    word_given_business[word] = (counter_business[word] + 1) / (categories_count['business'] + len(word_dict['business']))\n",
    "for word in word_dict['sport']:\n",
    "    word_given_sport[word] = (counter_sport[word] + 1) / (categories_count['sport'] + len(word_dict['sport']))\n",
    "for word in word_dict['entertainment']:\n",
    "    word_given_entertainment[word] = (counter_entertainment[word] + 1) / (categories_count['entertainment'] + len(word_dict['entertainment']))\n",
    "for word in word_dict['politics']:\n",
    "    word_given_politics[word] = (counter_politics[word] + 1) / (categories_count['politics'] + len(word_dict['politics']))\n",
    "for word in word_dict['tech']:\n",
    "    word_given_tech[word] = (counter_tech[word] + 1) / (categories_count['tech'] + len(word_dict['tech']))"
   ]
  },
  {
   "attachments": {},
   "cell_type": "markdown",
   "metadata": {},
   "source": [
    "## Next up, we calculate the probability of each word relative to the whole dataset we have."
   ]
  },
  {
   "attachments": {},
   "cell_type": "markdown",
   "metadata": {},
   "source": []
  },
  {
   "cell_type": "code",
   "execution_count": 218,
   "metadata": {},
   "outputs": [],
   "source": [
    "probabiltiy_of_word = defaultdict(float)\n",
    "words_count = Counter(all_words)\n",
    "\n",
    "for word in words_count:\n",
    "    probabiltiy_of_word[word] = words_count[word] / len(all_words)"
   ]
  },
  {
   "attachments": {},
   "cell_type": "markdown",
   "metadata": {},
   "source": [
    "## Let's store the probabilities of each label"
   ]
  },
  {
   "attachments": {},
   "cell_type": "markdown",
   "metadata": {},
   "source": []
  },
  {
   "cell_type": "code",
   "execution_count": 219,
   "metadata": {},
   "outputs": [],
   "source": [
    "\n",
    "probability_of_business = categories_count['business'] / total_samples\n",
    "probability_of_sport = categories_count['sport'] / total_samples\n",
    "probability_of_entertainment = categories_count['entertainment'] / total_samples\n",
    "probability_of_tech = categories_count['tech'] / total_samples\n",
    "probability_of_politics = categories_count['politics'] / total_samples"
   ]
  },
  {
   "attachments": {},
   "cell_type": "markdown",
   "metadata": {},
   "source": [
    "## Now that we have everything we need to make predictions for some unseen data, let's proceed to build a function that will predict label given the text of a news article"
   ]
  },
  {
   "cell_type": "code",
   "execution_count": 220,
   "metadata": {},
   "outputs": [],
   "source": [
    "def classifier(words, k):\n",
    "    labels = ['business', 'entertainment', 'sport', 'politics', 'tech']\n",
    "    probability_of_label = defaultdict(float)\n",
    "    probability_of_label['business'] = math.log(probability_of_business)\n",
    "    probability_of_label['entertainment'] = math.log(probability_of_entertainment)\n",
    "    probability_of_label['sport'] = math.log(probability_of_sport)\n",
    "    probability_of_label['politics'] = math.log(probability_of_politics)\n",
    "    probability_of_label['tech'] = math.log(probability_of_tech)\n",
    "\n",
    "    for word in words:\n",
    "        if word in word_given_business:\n",
    "            probability_of_label['business'] += math.log(word_given_business[word])\n",
    "        else:\n",
    "            probability_of_label['business'] += math.log(k / (categories_count['business'] + len(word_dict['business']) * k))\n",
    "\n",
    "        if word in word_given_entertainment:\n",
    "            probability_of_label['entertainment'] += math.log(word_given_entertainment[word])\n",
    "        else:\n",
    "            probability_of_label['entertainment'] += math.log(k / (categories_count['entertainment'] + len(word_dict['entertainment']) * k))\n",
    "\n",
    "        if word in word_given_sport:\n",
    "            probability_of_label['sport'] += math.log(word_given_sport[word])\n",
    "        else:\n",
    "            probability_of_label['sport'] += math.log(k / (categories_count['sport'] + len(word_dict['sport']) * k))\n",
    "\n",
    "        if word in word_given_politics:\n",
    "            probability_of_label['politics'] += math.log(word_given_politics[word])\n",
    "        else:\n",
    "            probability_of_label['politics'] += math.log(k / (categories_count['politics'] + len(word_dict['politics']) * k))\n",
    "\n",
    "        if word in word_given_tech:\n",
    "            probability_of_label['tech'] += math.log(word_given_tech[word])\n",
    "        else:\n",
    "            probability_of_label['tech'] += math.log(k / (categories_count['tech'] + len(word_dict['tech']) * k))\n",
    "\n",
    "    predicted_label = max(probability_of_label, key=probability_of_label.get)\n",
    "    return predicted_label\n",
    "\n",
    "\n"
   ]
  },
  {
   "attachments": {},
   "cell_type": "markdown",
   "metadata": {},
   "source": [
    "# Now that we have trained our model and wrote a test function, lets test it with datas."
   ]
  },
  {
   "cell_type": "code",
   "execution_count": 222,
   "metadata": {},
   "outputs": [
    {
     "name": "stdout",
     "output_type": "stream",
     "text": [
      "Accuracy for k = 0.1 : 0.9710344827586207\n",
      "Accuracy for k = 0.5 : 0.48482758620689653\n",
      "Accuracy for k = 1.0 : 0.3232183908045977\n",
      "Accuracy for k = 10 : 0.24241379310344827\n",
      "Accuracy for k = 100 : 0.1939310344827586\n"
     ]
    },
    {
     "data": {
      "image/png": "[encoded data removed]",
      "text/plain": [
       "<Figure size 640x480 with 1 Axes>"
      ]
     },
     "metadata": {},
     "output_type": "display_data"
    }
   ],
   "source": [
    "laplace_smoothers = [0.1, 0.5, 1.0, 10, 100]\n",
    "accuracy = []\n",
    "samples =0\n",
    "for k in laplace_smoothers:\n",
    "    corrects = 0\n",
    "    for subfolder in subfolders:\n",
    "        folder_path = os.path.join(parent_folder, subfolder)\n",
    "        files = glob.glob(os.path.join(folder_path, '*.txt'))\n",
    "        for file_path in files[300:]:\n",
    "            samples = samples + 1\n",
    "            with open(file_path, 'r') as file:\n",
    "                content = file.read()\n",
    "                words = tokenize_text(content)\n",
    "                if subfolder == classifier(words, k):\n",
    "                    corrects += 1\n",
    "    accuracy.append(corrects / samples)\n",
    "    print(\"Accuracy for k =\", k, \":\", corrects / samples)\n",
    "plt.plot(laplace_smoothers, accuracy)\n",
    "plt.xlabel('Laplace Smoothers')\n",
    "plt.ylabel('Accuracy')\n",
    "plt.title('Laplace Smoothers vs. Accuracy')\n",
    "plt.show()"
   ]
  }
 ],
 "metadata": {
  "kernelspec": {
   "display_name": "Python 3",
   "language": "python",
   "name": "python3"
  },
  "language_info": {
   "codemirror_mode": {
    "name": "ipython",
    "version": 3
   },
   "file_extension": ".py",
   "mimetype": "text/x-python",
   "name": "python",
   "nbconvert_exporter": "python",
   "pygments_lexer": "ipython3",
   "version": "3.10.6"
  },
  "orig_nbformat": 4
 },
 "nbformat": 4,
 "nbformat_minor": 2
}
